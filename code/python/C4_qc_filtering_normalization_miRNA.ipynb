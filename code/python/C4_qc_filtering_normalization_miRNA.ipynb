{
 "metadata": {
  "name": "",
  "signature": "sha256:658fe8868653356cee4f2c86453773da753f1a555a64a96f3936cf481e71281e"
 },
 "nbformat": 3,
 "nbformat_minor": 0,
 "worksheets": [
  {
   "cells": [
    {
     "cell_type": "code",
     "collapsed": false,
     "input": [
      "import synapseclient\n",
      "import numpy as np\n",
      "import pandas as pd\n",
      "import scipy.stats as stats\n",
      "import hierarchical_clustering as clust\n",
      "import MicroArray\n",
      "from toppGenePost import ToppGeneEnrichement\n",
      "from IPython.display import HTML\n",
      "\n",
      "MIRSEQ_ID = 'syn2247832' #Private 'syn2233189'\n",
      "MIRSEQ_META_ID = 'syn3219876'\n",
      "BIOMART_ANNOT_ID = 'syn2706233'\n",
      "pd.set_option('max_columns', 200)\n",
      "syn = synapseclient.login()"
     ],
     "language": "python",
     "metadata": {},
     "outputs": [
      {
       "output_type": "stream",
       "stream": "stdout",
       "text": [
        "Welcome, Kenneth Daily!\n"
       ]
      }
     ],
     "prompt_number": 1
    },
    {
     "cell_type": "markdown",
     "metadata": {},
     "source": [
      "## Gets annotations from metadata in Synapse"
     ]
    },
    {
     "cell_type": "code",
     "collapsed": false,
     "input": [
      "mirseq = pd.read_csv(syn.get(MIRSEQ_ID).path, sep=',', index_col=0)"
     ],
     "language": "python",
     "metadata": {},
     "outputs": [
      {
       "output_type": "stream",
       "stream": "stdout",
       "text": [
        "\r",
        " [--------------------]0.00% \t0.0bytes/1.1MB "
       ]
      },
      {
       "output_type": "stream",
       "stream": "stdout",
       "text": [
        "\r",
        " [--------------------]0.36% \t4.0kB/1.1MB "
       ]
      },
      {
       "output_type": "stream",
       "stream": "stdout",
       "text": [
        "\r",
        " [--------------------]0.73% \t8.0kB/1.1MB "
       ]
      },
      {
       "output_type": "stream",
       "stream": "stdout",
       "text": [
        "\r",
        " [--------------------]1.09% \t12.0kB/1.1MB "
       ]
      },
      {
       "output_type": "stream",
       "stream": "stdout",
       "text": [
        "\r",
        " [--------------------]1.45% \t16.0kB/1.1MB "
       ]
      },
      {
       "output_type": "stream",
       "stream": "stdout",
       "text": [
        "\r",
        " [--------------------]1.82% \t20.0kB/1.1MB "
       ]
      },
      {
       "output_type": "stream",
       "stream": "stdout",
       "text": [
        "\r",
        " [--------------------]2.18% \t24.0kB/1.1MB "
       ]
      },
      {
       "output_type": "stream",
       "stream": "stdout",
       "text": [
        "\r",
        " [#-------------------]2.54% \t28.0kB/1.1MB "
       ]
      },
      {
       "output_type": "stream",
       "stream": "stdout",
       "text": [
        "\r",
        " [#-------------------]2.91% \t32.0kB/1.1MB "
       ]
      },
      {
       "output_type": "stream",
       "stream": "stdout",
       "text": [
        "\r",
        " [#-------------------]3.27% \t36.0kB/1.1MB "
       ]
      },
      {
       "output_type": "stream",
       "stream": "stdout",
       "text": [
        "\r",
        " [#-------------------]3.63% \t40.0kB/1.1MB "
       ]
      },
      {
       "output_type": "stream",
       "stream": "stdout",
       "text": [
        "\r",
        " [#-------------------]4.00% \t44.0kB/1.1MB "
       ]
      },
      {
       "output_type": "stream",
       "stream": "stdout",
       "text": [
        "\r",
        " [#-------------------]4.36% \t48.0kB/1.1MB "
       ]
      },
      {
       "output_type": "stream",
       "stream": "stdout",
       "text": [
        "\r",
        " [#-------------------]4.72% \t52.0kB/1.1MB "
       ]
      },
      {
       "output_type": "stream",
       "stream": "stdout",
       "text": [
        "\r",
        " [#-------------------]5.09% \t56.0kB/1.1MB "
       ]
      },
      {
       "output_type": "stream",
       "stream": "stdout",
       "text": [
        "\r",
        " [#-------------------]5.45% \t60.0kB/1.1MB "
       ]
      },
      {
       "output_type": "stream",
       "stream": "stdout",
       "text": [
        "\r",
        " [#-------------------]5.81% \t64.0kB/1.1MB "
       ]
      },
      {
       "output_type": "stream",
       "stream": "stdout",
       "text": [
        "\r",
        " [#-------------------]6.18% \t68.0kB/1.1MB "
       ]
      },
      {
       "output_type": "stream",
       "stream": "stdout",
       "text": [
        "\r",
        " [#-------------------]6.54% \t72.0kB/1.1MB "
       ]
      },
      {
       "output_type": "stream",
       "stream": "stdout",
       "text": [
        "\r",
        " [#-------------------]6.90% \t76.0kB/1.1MB "
       ]
      },
      {
       "output_type": "stream",
       "stream": "stdout",
       "text": [
        "\r",
        " [#-------------------]7.27% \t80.0kB/1.1MB "
       ]
      },
      {
       "output_type": "stream",
       "stream": "stdout",
       "text": [
        "\r",
        " [##------------------]7.63% \t84.0kB/1.1MB "
       ]
      },
      {
       "output_type": "stream",
       "stream": "stdout",
       "text": [
        "\r",
        " [##------------------]8.00% \t88.0kB/1.1MB "
       ]
      },
      {
       "output_type": "stream",
       "stream": "stdout",
       "text": [
        "\r",
        " [##------------------]8.36% \t92.0kB/1.1MB "
       ]
      },
      {
       "output_type": "stream",
       "stream": "stdout",
       "text": [
        "\r",
        " [##------------------]8.72% \t96.0kB/1.1MB "
       ]
      },
      {
       "output_type": "stream",
       "stream": "stdout",
       "text": [
        "\r",
        " [##------------------]9.09% \t100.0kB/1.1MB "
       ]
      },
      {
       "output_type": "stream",
       "stream": "stdout",
       "text": [
        "\r",
        " [##------------------]9.45% \t104.0kB/1.1MB "
       ]
      },
      {
       "output_type": "stream",
       "stream": "stdout",
       "text": [
        "\r",
        " [##------------------]9.81% \t108.0kB/1.1MB "
       ]
      },
      {
       "output_type": "stream",
       "stream": "stdout",
       "text": [
        "\r",
        " [##------------------]10.18% \t112.0kB/1.1MB "
       ]
      },
      {
       "output_type": "stream",
       "stream": "stdout",
       "text": [
        "\r",
        " [##------------------]10.54% \t116.0kB/1.1MB "
       ]
      },
      {
       "output_type": "stream",
       "stream": "stdout",
       "text": [
        "\r",
        " [##------------------]10.90% \t120.0kB/1.1MB "
       ]
      },
      {
       "output_type": "stream",
       "stream": "stdout",
       "text": [
        "\r",
        " [##------------------]11.27% \t124.0kB/1.1MB "
       ]
      },
      {
       "output_type": "stream",
       "stream": "stdout",
       "text": [
        "\r",
        " [##------------------]11.63% \t128.0kB/1.1MB "
       ]
      },
      {
       "output_type": "stream",
       "stream": "stdout",
       "text": [
        "\r",
        " [##------------------]11.99% \t132.0kB/1.1MB "
       ]
      },
      {
       "output_type": "stream",
       "stream": "stdout",
       "text": [
        "\r",
        " [##------------------]12.36% \t136.0kB/1.1MB "
       ]
      },
      {
       "output_type": "stream",
       "stream": "stdout",
       "text": [
        "\r",
        " [###-----------------]12.72% \t140.0kB/1.1MB "
       ]
      },
      {
       "output_type": "stream",
       "stream": "stdout",
       "text": [
        "\r",
        " [###-----------------]13.08% \t144.0kB/1.1MB "
       ]
      },
      {
       "output_type": "stream",
       "stream": "stdout",
       "text": [
        "\r",
        " [###-----------------]13.45% \t148.0kB/1.1MB "
       ]
      },
      {
       "output_type": "stream",
       "stream": "stdout",
       "text": [
        "\r",
        " [###-----------------]13.81% \t152.0kB/1.1MB "
       ]
      },
      {
       "output_type": "stream",
       "stream": "stdout",
       "text": [
        "\r",
        " [###-----------------]14.17% \t156.0kB/1.1MB "
       ]
      },
      {
       "output_type": "stream",
       "stream": "stdout",
       "text": [
        "\r",
        " [###-----------------]14.54% \t160.0kB/1.1MB "
       ]
      },
      {
       "output_type": "stream",
       "stream": "stdout",
       "text": [
        "\r",
        " [###-----------------]14.90% \t164.0kB/1.1MB "
       ]
      },
      {
       "output_type": "stream",
       "stream": "stdout",
       "text": [
        "\r",
        " [###-----------------]15.26% \t168.0kB/1.1MB "
       ]
      },
      {
       "output_type": "stream",
       "stream": "stdout",
       "text": [
        "\r",
        " [###-----------------]15.63% \t172.0kB/1.1MB "
       ]
      },
      {
       "output_type": "stream",
       "stream": "stdout",
       "text": [
        "\r",
        " [###-----------------]15.99% \t176.0kB/1.1MB "
       ]
      },
      {
       "output_type": "stream",
       "stream": "stdout",
       "text": [
        "\r",
        " [###-----------------]16.35% \t180.0kB/1.1MB "
       ]
      },
      {
       "output_type": "stream",
       "stream": "stdout",
       "text": [
        "\r",
        " [###-----------------]16.72% \t184.0kB/1.1MB "
       ]
      },
      {
       "output_type": "stream",
       "stream": "stdout",
       "text": [
        "\r",
        " [###-----------------]17.08% \t188.0kB/1.1MB "
       ]
      },
      {
       "output_type": "stream",
       "stream": "stdout",
       "text": [
        "\r",
        " [###-----------------]17.44% \t192.0kB/1.1MB "
       ]
      },
      {
       "output_type": "stream",
       "stream": "stdout",
       "text": [
        "\r",
        " [####----------------]17.81% \t196.0kB/1.1MB "
       ]
      },
      {
       "output_type": "stream",
       "stream": "stdout",
       "text": [
        "\r",
        " [####----------------]18.17% \t200.0kB/1.1MB "
       ]
      },
      {
       "output_type": "stream",
       "stream": "stdout",
       "text": [
        "\r",
        " [####----------------]18.53% \t204.0kB/1.1MB "
       ]
      },
      {
       "output_type": "stream",
       "stream": "stdout",
       "text": [
        "\r",
        " [####----------------]18.90% \t208.0kB/1.1MB "
       ]
      },
      {
       "output_type": "stream",
       "stream": "stdout",
       "text": [
        "\r",
        " [####----------------]19.26% \t212.0kB/1.1MB "
       ]
      },
      {
       "output_type": "stream",
       "stream": "stdout",
       "text": [
        "\r",
        " [####----------------]19.62% \t216.0kB/1.1MB "
       ]
      },
      {
       "output_type": "stream",
       "stream": "stdout",
       "text": [
        "\r",
        " [####----------------]19.99% \t220.0kB/1.1MB "
       ]
      },
      {
       "output_type": "stream",
       "stream": "stdout",
       "text": [
        "\r",
        " [####----------------]20.35% \t224.0kB/1.1MB "
       ]
      },
      {
       "output_type": "stream",
       "stream": "stdout",
       "text": [
        "\r",
        " [####----------------]20.71% \t228.0kB/1.1MB "
       ]
      },
      {
       "output_type": "stream",
       "stream": "stdout",
       "text": [
        "\r",
        " [####----------------]21.08% \t232.0kB/1.1MB "
       ]
      },
      {
       "output_type": "stream",
       "stream": "stdout",
       "text": [
        "\r",
        " [####----------------]21.44% \t236.0kB/1.1MB "
       ]
      },
      {
       "output_type": "stream",
       "stream": "stdout",
       "text": [
        "\r",
        " [####----------------]21.80% \t240.0kB/1.1MB "
       ]
      },
      {
       "output_type": "stream",
       "stream": "stdout",
       "text": [
        "\r",
        " [####----------------]22.17% \t244.0kB/1.1MB "
       ]
      },
      {
       "output_type": "stream",
       "stream": "stdout",
       "text": [
        "\r",
        " [#####---------------]22.53% \t248.0kB/1.1MB "
       ]
      },
      {
       "output_type": "stream",
       "stream": "stdout",
       "text": [
        "\r",
        " [#####---------------]22.90% \t252.0kB/1.1MB "
       ]
      },
      {
       "output_type": "stream",
       "stream": "stdout",
       "text": [
        "\r",
        " [#####---------------]23.26% \t256.0kB/1.1MB "
       ]
      },
      {
       "output_type": "stream",
       "stream": "stdout",
       "text": [
        "\r",
        " [#####---------------]23.62% \t260.0kB/1.1MB "
       ]
      },
      {
       "output_type": "stream",
       "stream": "stdout",
       "text": [
        "\r",
        " [#####---------------]23.99% \t264.0kB/1.1MB "
       ]
      },
      {
       "output_type": "stream",
       "stream": "stdout",
       "text": [
        "\r",
        " [#####---------------]24.35% \t268.0kB/1.1MB "
       ]
      },
      {
       "output_type": "stream",
       "stream": "stdout",
       "text": [
        "\r",
        " [#####---------------]24.71% \t272.0kB/1.1MB "
       ]
      },
      {
       "output_type": "stream",
       "stream": "stdout",
       "text": [
        "\r",
        " [#####---------------]25.08% \t276.0kB/1.1MB "
       ]
      },
      {
       "output_type": "stream",
       "stream": "stdout",
       "text": [
        "\r",
        " [#####---------------]25.44% \t280.0kB/1.1MB "
       ]
      },
      {
       "output_type": "stream",
       "stream": "stdout",
       "text": [
        "\r",
        " [#####---------------]25.80% \t284.0kB/1.1MB "
       ]
      },
      {
       "output_type": "stream",
       "stream": "stdout",
       "text": [
        "\r",
        " [#####---------------]26.17% \t288.0kB/1.1MB "
       ]
      },
      {
       "output_type": "stream",
       "stream": "stdout",
       "text": [
        "\r",
        " [#####---------------]26.53% \t292.0kB/1.1MB "
       ]
      },
      {
       "output_type": "stream",
       "stream": "stdout",
       "text": [
        "\r",
        " [#####---------------]26.89% \t296.0kB/1.1MB "
       ]
      },
      {
       "output_type": "stream",
       "stream": "stdout",
       "text": [
        "\r",
        " [#####---------------]27.26% \t300.0kB/1.1MB "
       ]
      },
      {
       "output_type": "stream",
       "stream": "stdout",
       "text": [
        "\r",
        " [######--------------]27.62% \t304.0kB/1.1MB "
       ]
      },
      {
       "output_type": "stream",
       "stream": "stdout",
       "text": [
        "\r",
        " [######--------------]27.98% \t308.0kB/1.1MB "
       ]
      },
      {
       "output_type": "stream",
       "stream": "stdout",
       "text": [
        "\r",
        " [######--------------]28.35% \t312.0kB/1.1MB "
       ]
      },
      {
       "output_type": "stream",
       "stream": "stdout",
       "text": [
        "\r",
        " [######--------------]28.71% \t316.0kB/1.1MB "
       ]
      },
      {
       "output_type": "stream",
       "stream": "stdout",
       "text": [
        "\r",
        " [######--------------]29.07% \t320.0kB/1.1MB "
       ]
      },
      {
       "output_type": "stream",
       "stream": "stdout",
       "text": [
        "\r",
        " [######--------------]29.44% \t324.0kB/1.1MB "
       ]
      },
      {
       "output_type": "stream",
       "stream": "stdout",
       "text": [
        "\r",
        " [######--------------]29.80% \t328.0kB/1.1MB "
       ]
      },
      {
       "output_type": "stream",
       "stream": "stdout",
       "text": [
        "\r",
        " [######--------------]30.16% \t332.0kB/1.1MB "
       ]
      },
      {
       "output_type": "stream",
       "stream": "stdout",
       "text": [
        "\r",
        " [######--------------]30.53% \t336.0kB/1.1MB "
       ]
      },
      {
       "output_type": "stream",
       "stream": "stdout",
       "text": [
        "\r",
        " [######--------------]30.89% \t340.0kB/1.1MB "
       ]
      },
      {
       "output_type": "stream",
       "stream": "stdout",
       "text": [
        "\r",
        " [######--------------]31.25% \t344.0kB/1.1MB "
       ]
      },
      {
       "output_type": "stream",
       "stream": "stdout",
       "text": [
        "\r",
        " [######--------------]31.62% \t348.0kB/1.1MB "
       ]
      },
      {
       "output_type": "stream",
       "stream": "stdout",
       "text": [
        "\r",
        " [######--------------]31.98% \t352.0kB/1.1MB "
       ]
      },
      {
       "output_type": "stream",
       "stream": "stdout",
       "text": [
        "\r",
        " [######--------------]32.34% \t356.0kB/1.1MB "
       ]
      },
      {
       "output_type": "stream",
       "stream": "stdout",
       "text": [
        "\r",
        " [#######-------------]32.71% \t360.0kB/1.1MB "
       ]
      },
      {
       "output_type": "stream",
       "stream": "stdout",
       "text": [
        "\r",
        " [#######-------------]33.07% \t364.0kB/1.1MB "
       ]
      },
      {
       "output_type": "stream",
       "stream": "stdout",
       "text": [
        "\r",
        " [#######-------------]33.43% \t368.0kB/1.1MB "
       ]
      },
      {
       "output_type": "stream",
       "stream": "stdout",
       "text": [
        "\r",
        " [#######-------------]33.80% \t372.0kB/1.1MB "
       ]
      },
      {
       "output_type": "stream",
       "stream": "stdout",
       "text": [
        "\r",
        " [#######-------------]34.16% \t376.0kB/1.1MB "
       ]
      },
      {
       "output_type": "stream",
       "stream": "stdout",
       "text": [
        "\r",
        " [#######-------------]34.52% \t380.0kB/1.1MB "
       ]
      },
      {
       "output_type": "stream",
       "stream": "stdout",
       "text": [
        "\r",
        " [#######-------------]34.89% \t384.0kB/1.1MB "
       ]
      },
      {
       "output_type": "stream",
       "stream": "stdout",
       "text": [
        "\r",
        " [#######-------------]35.25% \t388.0kB/1.1MB "
       ]
      },
      {
       "output_type": "stream",
       "stream": "stdout",
       "text": [
        "\r",
        " [#######-------------]35.61% \t392.0kB/1.1MB "
       ]
      },
      {
       "output_type": "stream",
       "stream": "stdout",
       "text": [
        "\r",
        " [#######-------------]35.98% \t396.0kB/1.1MB "
       ]
      },
      {
       "output_type": "stream",
       "stream": "stdout",
       "text": [
        "\r",
        " [#######-------------]36.34% \t400.0kB/1.1MB "
       ]
      },
      {
       "output_type": "stream",
       "stream": "stdout",
       "text": [
        "\r",
        " [#######-------------]36.70% \t404.0kB/1.1MB "
       ]
      },
      {
       "output_type": "stream",
       "stream": "stdout",
       "text": [
        "\r",
        " [#######-------------]37.07% \t408.0kB/1.1MB "
       ]
      },
      {
       "output_type": "stream",
       "stream": "stdout",
       "text": [
        "\r",
        " [#######-------------]37.43% \t412.0kB/1.1MB "
       ]
      },
      {
       "output_type": "stream",
       "stream": "stdout",
       "text": [
        "\r",
        " [########------------]37.80% \t416.0kB/1.1MB "
       ]
      },
      {
       "output_type": "stream",
       "stream": "stdout",
       "text": [
        "\r",
        " [########------------]38.16% \t420.0kB/1.1MB "
       ]
      },
      {
       "output_type": "stream",
       "stream": "stdout",
       "text": [
        "\r",
        " [########------------]38.52% \t424.0kB/1.1MB "
       ]
      },
      {
       "output_type": "stream",
       "stream": "stdout",
       "text": [
        "\r",
        " [########------------]38.89% \t428.0kB/1.1MB "
       ]
      },
      {
       "output_type": "stream",
       "stream": "stdout",
       "text": [
        "\r",
        " [########------------]39.25% \t432.0kB/1.1MB "
       ]
      },
      {
       "output_type": "stream",
       "stream": "stdout",
       "text": [
        "\r",
        " [########------------]39.61% \t436.0kB/1.1MB "
       ]
      },
      {
       "output_type": "stream",
       "stream": "stdout",
       "text": [
        "\r",
        " [########------------]39.98% \t440.0kB/1.1MB "
       ]
      },
      {
       "output_type": "stream",
       "stream": "stdout",
       "text": [
        "\r",
        " [########------------]40.34% \t444.0kB/1.1MB "
       ]
      },
      {
       "output_type": "stream",
       "stream": "stdout",
       "text": [
        "\r",
        " [########------------]40.70% \t448.0kB/1.1MB "
       ]
      },
      {
       "output_type": "stream",
       "stream": "stdout",
       "text": [
        "\r",
        " [########------------]41.07% \t452.0kB/1.1MB "
       ]
      },
      {
       "output_type": "stream",
       "stream": "stdout",
       "text": [
        "\r",
        " [########------------]41.43% \t456.0kB/1.1MB "
       ]
      },
      {
       "output_type": "stream",
       "stream": "stdout",
       "text": [
        "\r",
        " [########------------]41.79% \t460.0kB/1.1MB "
       ]
      },
      {
       "output_type": "stream",
       "stream": "stdout",
       "text": [
        "\r",
        " [########------------]42.16% \t464.0kB/1.1MB "
       ]
      },
      {
       "output_type": "stream",
       "stream": "stdout",
       "text": [
        "\r",
        " [#########-----------]42.52% \t468.0kB/1.1MB "
       ]
      },
      {
       "output_type": "stream",
       "stream": "stdout",
       "text": [
        "\r",
        " [#########-----------]42.88% \t472.0kB/1.1MB "
       ]
      },
      {
       "output_type": "stream",
       "stream": "stdout",
       "text": [
        "\r",
        " [#########-----------]43.25% \t476.0kB/1.1MB "
       ]
      },
      {
       "output_type": "stream",
       "stream": "stdout",
       "text": [
        "\r",
        " [#########-----------]43.61% \t480.0kB/1.1MB "
       ]
      },
      {
       "output_type": "stream",
       "stream": "stdout",
       "text": [
        "\r",
        " [#########-----------]43.97% \t484.0kB/1.1MB "
       ]
      },
      {
       "output_type": "stream",
       "stream": "stdout",
       "text": [
        "\r",
        " [#########-----------]44.34% \t488.0kB/1.1MB "
       ]
      },
      {
       "output_type": "stream",
       "stream": "stdout",
       "text": [
        "\r",
        " [#########-----------]44.70% \t492.0kB/1.1MB "
       ]
      },
      {
       "output_type": "stream",
       "stream": "stdout",
       "text": [
        "\r",
        " [#########-----------]45.06% \t496.0kB/1.1MB "
       ]
      },
      {
       "output_type": "stream",
       "stream": "stdout",
       "text": [
        "\r",
        " [#########-----------]45.43% \t500.0kB/1.1MB "
       ]
      },
      {
       "output_type": "stream",
       "stream": "stdout",
       "text": [
        "\r",
        " [#########-----------]45.79% \t504.0kB/1.1MB "
       ]
      },
      {
       "output_type": "stream",
       "stream": "stdout",
       "text": [
        "\r",
        " [#########-----------]46.15% \t508.0kB/1.1MB "
       ]
      },
      {
       "output_type": "stream",
       "stream": "stdout",
       "text": [
        "\r",
        " [#########-----------]46.52% \t512.0kB/1.1MB "
       ]
      },
      {
       "output_type": "stream",
       "stream": "stdout",
       "text": [
        "\r",
        " [#########-----------]46.88% \t516.0kB/1.1MB "
       ]
      },
      {
       "output_type": "stream",
       "stream": "stdout",
       "text": [
        "\r",
        " [#########-----------]47.24% \t520.0kB/1.1MB "
       ]
      },
      {
       "output_type": "stream",
       "stream": "stdout",
       "text": [
        "\r",
        " [##########----------]47.61% \t524.0kB/1.1MB "
       ]
      },
      {
       "output_type": "stream",
       "stream": "stdout",
       "text": [
        "\r",
        " [##########----------]47.97% \t528.0kB/1.1MB "
       ]
      },
      {
       "output_type": "stream",
       "stream": "stdout",
       "text": [
        "\r",
        " [##########----------]48.33% \t532.0kB/1.1MB "
       ]
      },
      {
       "output_type": "stream",
       "stream": "stdout",
       "text": [
        "\r",
        " [##########----------]48.70% \t536.0kB/1.1MB "
       ]
      },
      {
       "output_type": "stream",
       "stream": "stdout",
       "text": [
        "\r",
        " [##########----------]49.06% \t540.0kB/1.1MB "
       ]
      },
      {
       "output_type": "stream",
       "stream": "stdout",
       "text": [
        "\r",
        " [##########----------]49.42% \t544.0kB/1.1MB "
       ]
      },
      {
       "output_type": "stream",
       "stream": "stdout",
       "text": [
        "\r",
        " [##########----------]49.79% \t548.0kB/1.1MB "
       ]
      },
      {
       "output_type": "stream",
       "stream": "stdout",
       "text": [
        "\r",
        " [##########----------]50.15% \t552.0kB/1.1MB "
       ]
      },
      {
       "output_type": "stream",
       "stream": "stdout",
       "text": [
        "\r",
        " [##########----------]50.51% \t556.0kB/1.1MB "
       ]
      },
      {
       "output_type": "stream",
       "stream": "stdout",
       "text": [
        "\r",
        " [##########----------]50.88% \t560.0kB/1.1MB "
       ]
      },
      {
       "output_type": "stream",
       "stream": "stdout",
       "text": [
        "\r",
        " [##########----------]51.24% \t564.0kB/1.1MB "
       ]
      },
      {
       "output_type": "stream",
       "stream": "stdout",
       "text": [
        "\r",
        " [##########----------]51.60% \t568.0kB/1.1MB "
       ]
      },
      {
       "output_type": "stream",
       "stream": "stdout",
       "text": [
        "\r",
        " [##########----------]51.97% \t572.0kB/1.1MB "
       ]
      },
      {
       "output_type": "stream",
       "stream": "stdout",
       "text": [
        "\r",
        " [##########----------]52.33% \t576.0kB/1.1MB "
       ]
      },
      {
       "output_type": "stream",
       "stream": "stdout",
       "text": [
        "\r",
        " [###########---------]52.70% \t580.0kB/1.1MB "
       ]
      },
      {
       "output_type": "stream",
       "stream": "stdout",
       "text": [
        "\r",
        " [###########---------]53.06% \t584.0kB/1.1MB "
       ]
      },
      {
       "output_type": "stream",
       "stream": "stdout",
       "text": [
        "\r",
        " [###########---------]53.42% \t588.0kB/1.1MB "
       ]
      },
      {
       "output_type": "stream",
       "stream": "stdout",
       "text": [
        "\r",
        " [###########---------]53.79% \t592.0kB/1.1MB "
       ]
      },
      {
       "output_type": "stream",
       "stream": "stdout",
       "text": [
        "\r",
        " [###########---------]54.15% \t596.0kB/1.1MB "
       ]
      },
      {
       "output_type": "stream",
       "stream": "stdout",
       "text": [
        "\r",
        " [###########---------]54.51% \t600.0kB/1.1MB "
       ]
      },
      {
       "output_type": "stream",
       "stream": "stdout",
       "text": [
        "\r",
        " [###########---------]54.88% \t604.0kB/1.1MB "
       ]
      },
      {
       "output_type": "stream",
       "stream": "stdout",
       "text": [
        "\r",
        " [###########---------]55.24% \t608.0kB/1.1MB "
       ]
      },
      {
       "output_type": "stream",
       "stream": "stdout",
       "text": [
        "\r",
        " [###########---------]55.60% \t612.0kB/1.1MB "
       ]
      },
      {
       "output_type": "stream",
       "stream": "stdout",
       "text": [
        "\r",
        " [###########---------]55.97% \t616.0kB/1.1MB "
       ]
      },
      {
       "output_type": "stream",
       "stream": "stdout",
       "text": [
        "\r",
        " [###########---------]56.33% \t620.0kB/1.1MB "
       ]
      },
      {
       "output_type": "stream",
       "stream": "stdout",
       "text": [
        "\r",
        " [###########---------]56.69% \t624.0kB/1.1MB "
       ]
      },
      {
       "output_type": "stream",
       "stream": "stdout",
       "text": [
        "\r",
        " [###########---------]57.06% \t628.0kB/1.1MB "
       ]
      },
      {
       "output_type": "stream",
       "stream": "stdout",
       "text": [
        "\r",
        " [###########---------]57.42% \t632.0kB/1.1MB "
       ]
      },
      {
       "output_type": "stream",
       "stream": "stdout",
       "text": [
        "\r",
        " [############--------]57.78% \t636.0kB/1.1MB "
       ]
      },
      {
       "output_type": "stream",
       "stream": "stdout",
       "text": [
        "\r",
        " [############--------]58.15% \t640.0kB/1.1MB "
       ]
      },
      {
       "output_type": "stream",
       "stream": "stdout",
       "text": [
        "\r",
        " [############--------]58.51% \t644.0kB/1.1MB "
       ]
      },
      {
       "output_type": "stream",
       "stream": "stdout",
       "text": [
        "\r",
        " [############--------]58.87% \t648.0kB/1.1MB "
       ]
      },
      {
       "output_type": "stream",
       "stream": "stdout",
       "text": [
        "\r",
        " [############--------]59.24% \t652.0kB/1.1MB "
       ]
      },
      {
       "output_type": "stream",
       "stream": "stdout",
       "text": [
        "\r",
        " [############--------]59.60% \t656.0kB/1.1MB "
       ]
      },
      {
       "output_type": "stream",
       "stream": "stdout",
       "text": [
        "\r",
        " [############--------]59.96% \t660.0kB/1.1MB "
       ]
      },
      {
       "output_type": "stream",
       "stream": "stdout",
       "text": [
        "\r",
        " [############--------]60.33% \t664.0kB/1.1MB "
       ]
      },
      {
       "output_type": "stream",
       "stream": "stdout",
       "text": [
        "\r",
        " [############--------]60.69% \t668.0kB/1.1MB "
       ]
      },
      {
       "output_type": "stream",
       "stream": "stdout",
       "text": [
        "\r",
        " [############--------]61.05% \t672.0kB/1.1MB "
       ]
      },
      {
       "output_type": "stream",
       "stream": "stdout",
       "text": [
        "\r",
        " [############--------]61.42% \t676.0kB/1.1MB "
       ]
      },
      {
       "output_type": "stream",
       "stream": "stdout",
       "text": [
        "\r",
        " [############--------]61.78% \t680.0kB/1.1MB "
       ]
      },
      {
       "output_type": "stream",
       "stream": "stdout",
       "text": [
        "\r",
        " [############--------]62.14% \t684.0kB/1.1MB "
       ]
      },
      {
       "output_type": "stream",
       "stream": "stdout",
       "text": [
        "\r",
        " [#############-------]62.51% \t688.0kB/1.1MB "
       ]
      },
      {
       "output_type": "stream",
       "stream": "stdout",
       "text": [
        "\r",
        " [#############-------]62.87% \t692.0kB/1.1MB "
       ]
      },
      {
       "output_type": "stream",
       "stream": "stdout",
       "text": [
        "\r",
        " [#############-------]63.23% \t696.0kB/1.1MB "
       ]
      },
      {
       "output_type": "stream",
       "stream": "stdout",
       "text": [
        "\r",
        " [#############-------]63.60% \t700.0kB/1.1MB "
       ]
      },
      {
       "output_type": "stream",
       "stream": "stdout",
       "text": [
        "\r",
        " [#############-------]63.96% \t704.0kB/1.1MB "
       ]
      },
      {
       "output_type": "stream",
       "stream": "stdout",
       "text": [
        "\r",
        " [#############-------]64.32% \t708.0kB/1.1MB "
       ]
      },
      {
       "output_type": "stream",
       "stream": "stdout",
       "text": [
        "\r",
        " [#############-------]64.69% \t712.0kB/1.1MB "
       ]
      },
      {
       "output_type": "stream",
       "stream": "stdout",
       "text": [
        "\r",
        " [#############-------]65.05% \t716.0kB/1.1MB "
       ]
      },
      {
       "output_type": "stream",
       "stream": "stdout",
       "text": [
        "\r",
        " [#############-------]65.41% \t720.0kB/1.1MB "
       ]
      },
      {
       "output_type": "stream",
       "stream": "stdout",
       "text": [
        "\r",
        " [#############-------]65.78% \t724.0kB/1.1MB "
       ]
      },
      {
       "output_type": "stream",
       "stream": "stdout",
       "text": [
        "\r",
        " [#############-------]66.14% \t728.0kB/1.1MB "
       ]
      },
      {
       "output_type": "stream",
       "stream": "stdout",
       "text": [
        "\r",
        " [#############-------]66.50% \t732.0kB/1.1MB "
       ]
      },
      {
       "output_type": "stream",
       "stream": "stdout",
       "text": [
        "\r",
        " [#############-------]66.87% \t736.0kB/1.1MB "
       ]
      },
      {
       "output_type": "stream",
       "stream": "stdout",
       "text": [
        "\r",
        " [#############-------]67.23% \t740.0kB/1.1MB "
       ]
      },
      {
       "output_type": "stream",
       "stream": "stdout",
       "text": [
        "\r",
        " [##############------]67.60% \t744.0kB/1.1MB "
       ]
      },
      {
       "output_type": "stream",
       "stream": "stdout",
       "text": [
        "\r",
        " [##############------]67.96% \t748.0kB/1.1MB "
       ]
      },
      {
       "output_type": "stream",
       "stream": "stdout",
       "text": [
        "\r",
        " [##############------]68.32% \t752.0kB/1.1MB "
       ]
      },
      {
       "output_type": "stream",
       "stream": "stdout",
       "text": [
        "\r",
        " [##############------]68.69% \t756.0kB/1.1MB "
       ]
      },
      {
       "output_type": "stream",
       "stream": "stdout",
       "text": [
        "\r",
        " [##############------]69.05% \t760.0kB/1.1MB "
       ]
      },
      {
       "output_type": "stream",
       "stream": "stdout",
       "text": [
        "\r",
        " [##############------]69.41% \t764.0kB/1.1MB "
       ]
      },
      {
       "output_type": "stream",
       "stream": "stdout",
       "text": [
        "\r",
        " [##############------]69.78% \t768.0kB/1.1MB "
       ]
      },
      {
       "output_type": "stream",
       "stream": "stdout",
       "text": [
        "\r",
        " [##############------]70.14% \t772.0kB/1.1MB "
       ]
      },
      {
       "output_type": "stream",
       "stream": "stdout",
       "text": [
        "\r",
        " [##############------]70.50% \t776.0kB/1.1MB "
       ]
      },
      {
       "output_type": "stream",
       "stream": "stdout",
       "text": [
        "\r",
        " [##############------]70.87% \t780.0kB/1.1MB "
       ]
      },
      {
       "output_type": "stream",
       "stream": "stdout",
       "text": [
        "\r",
        " [##############------]71.23% \t784.0kB/1.1MB "
       ]
      },
      {
       "output_type": "stream",
       "stream": "stdout",
       "text": [
        "\r",
        " [##############------]71.59% \t788.0kB/1.1MB "
       ]
      },
      {
       "output_type": "stream",
       "stream": "stdout",
       "text": [
        "\r",
        " [##############------]71.96% \t792.0kB/1.1MB "
       ]
      },
      {
       "output_type": "stream",
       "stream": "stdout",
       "text": [
        "\r",
        " [##############------]72.32% \t796.0kB/1.1MB "
       ]
      },
      {
       "output_type": "stream",
       "stream": "stdout",
       "text": [
        "\r",
        " [###############-----]72.68% \t800.0kB/1.1MB "
       ]
      },
      {
       "output_type": "stream",
       "stream": "stdout",
       "text": [
        "\r",
        " [###############-----]73.05% \t804.0kB/1.1MB "
       ]
      },
      {
       "output_type": "stream",
       "stream": "stdout",
       "text": [
        "\r",
        " [###############-----]73.41% \t808.0kB/1.1MB "
       ]
      },
      {
       "output_type": "stream",
       "stream": "stdout",
       "text": [
        "\r",
        " [###############-----]73.77% \t812.0kB/1.1MB "
       ]
      },
      {
       "output_type": "stream",
       "stream": "stdout",
       "text": [
        "\r",
        " [###############-----]74.14% \t816.0kB/1.1MB "
       ]
      },
      {
       "output_type": "stream",
       "stream": "stdout",
       "text": [
        "\r",
        " [###############-----]74.50% \t820.0kB/1.1MB "
       ]
      },
      {
       "output_type": "stream",
       "stream": "stdout",
       "text": [
        "\r",
        " [###############-----]74.86% \t824.0kB/1.1MB "
       ]
      },
      {
       "output_type": "stream",
       "stream": "stdout",
       "text": [
        "\r",
        " [###############-----]75.23% \t828.0kB/1.1MB "
       ]
      },
      {
       "output_type": "stream",
       "stream": "stdout",
       "text": [
        "\r",
        " [###############-----]75.59% \t832.0kB/1.1MB "
       ]
      },
      {
       "output_type": "stream",
       "stream": "stdout",
       "text": [
        "\r",
        " [###############-----]75.95% \t836.0kB/1.1MB "
       ]
      },
      {
       "output_type": "stream",
       "stream": "stdout",
       "text": [
        "\r",
        " [###############-----]76.32% \t840.0kB/1.1MB "
       ]
      },
      {
       "output_type": "stream",
       "stream": "stdout",
       "text": [
        "\r",
        " [###############-----]76.68% \t844.0kB/1.1MB "
       ]
      },
      {
       "output_type": "stream",
       "stream": "stdout",
       "text": [
        "\r",
        " [###############-----]77.04% \t848.0kB/1.1MB "
       ]
      },
      {
       "output_type": "stream",
       "stream": "stdout",
       "text": [
        "\r",
        " [###############-----]77.41% \t852.0kB/1.1MB "
       ]
      },
      {
       "output_type": "stream",
       "stream": "stdout",
       "text": [
        "\r",
        " [################----]77.77% \t856.0kB/1.1MB "
       ]
      },
      {
       "output_type": "stream",
       "stream": "stdout",
       "text": [
        "\r",
        " [################----]78.13% \t860.0kB/1.1MB "
       ]
      },
      {
       "output_type": "stream",
       "stream": "stdout",
       "text": [
        "\r",
        " [################----]78.50% \t864.0kB/1.1MB "
       ]
      },
      {
       "output_type": "stream",
       "stream": "stdout",
       "text": [
        "\r",
        " [################----]78.86% \t868.0kB/1.1MB "
       ]
      },
      {
       "output_type": "stream",
       "stream": "stdout",
       "text": [
        "\r",
        " [################----]79.22% \t872.0kB/1.1MB "
       ]
      },
      {
       "output_type": "stream",
       "stream": "stdout",
       "text": [
        "\r",
        " [################----]79.59% \t876.0kB/1.1MB "
       ]
      },
      {
       "output_type": "stream",
       "stream": "stdout",
       "text": [
        "\r",
        " [################----]79.95% \t880.0kB/1.1MB "
       ]
      },
      {
       "output_type": "stream",
       "stream": "stdout",
       "text": [
        "\r",
        " [################----]80.31% \t884.0kB/1.1MB "
       ]
      },
      {
       "output_type": "stream",
       "stream": "stdout",
       "text": [
        "\r",
        " [################----]80.68% \t888.0kB/1.1MB "
       ]
      },
      {
       "output_type": "stream",
       "stream": "stdout",
       "text": [
        "\r",
        " [################----]81.04% \t892.0kB/1.1MB "
       ]
      },
      {
       "output_type": "stream",
       "stream": "stdout",
       "text": [
        "\r",
        " [################----]81.40% \t896.0kB/1.1MB "
       ]
      },
      {
       "output_type": "stream",
       "stream": "stdout",
       "text": [
        "\r",
        " [################----]81.77% \t900.0kB/1.1MB "
       ]
      },
      {
       "output_type": "stream",
       "stream": "stdout",
       "text": [
        "\r",
        " [################----]82.13% \t904.0kB/1.1MB "
       ]
      },
      {
       "output_type": "stream",
       "stream": "stdout",
       "text": [
        "\r",
        " [################----]82.50% \t908.0kB/1.1MB "
       ]
      },
      {
       "output_type": "stream",
       "stream": "stdout",
       "text": [
        "\r",
        " [#################---]82.86% \t912.0kB/1.1MB "
       ]
      },
      {
       "output_type": "stream",
       "stream": "stdout",
       "text": [
        "\r",
        " [#################---]83.22% \t916.0kB/1.1MB "
       ]
      },
      {
       "output_type": "stream",
       "stream": "stdout",
       "text": [
        "\r",
        " [#################---]83.59% \t920.0kB/1.1MB "
       ]
      },
      {
       "output_type": "stream",
       "stream": "stdout",
       "text": [
        "\r",
        " [#################---]83.95% \t924.0kB/1.1MB "
       ]
      },
      {
       "output_type": "stream",
       "stream": "stdout",
       "text": [
        "\r",
        " [#################---]84.31% \t928.0kB/1.1MB "
       ]
      },
      {
       "output_type": "stream",
       "stream": "stdout",
       "text": [
        "\r",
        " [#################---]84.68% \t932.0kB/1.1MB "
       ]
      },
      {
       "output_type": "stream",
       "stream": "stdout",
       "text": [
        "\r",
        " [#################---]85.04% \t936.0kB/1.1MB "
       ]
      },
      {
       "output_type": "stream",
       "stream": "stdout",
       "text": [
        "\r",
        " [#################---]85.40% \t940.0kB/1.1MB "
       ]
      },
      {
       "output_type": "stream",
       "stream": "stdout",
       "text": [
        "\r",
        " [#################---]85.77% \t944.0kB/1.1MB "
       ]
      },
      {
       "output_type": "stream",
       "stream": "stdout",
       "text": [
        "\r",
        " [#################---]86.13% \t948.0kB/1.1MB "
       ]
      },
      {
       "output_type": "stream",
       "stream": "stdout",
       "text": [
        "\r",
        " [#################---]86.49% \t952.0kB/1.1MB "
       ]
      },
      {
       "output_type": "stream",
       "stream": "stdout",
       "text": [
        "\r",
        " [#################---]86.86% \t956.0kB/1.1MB "
       ]
      },
      {
       "output_type": "stream",
       "stream": "stdout",
       "text": [
        "\r",
        " [#################---]87.22% \t960.0kB/1.1MB "
       ]
      },
      {
       "output_type": "stream",
       "stream": "stdout",
       "text": [
        "\r",
        " [##################--]87.58% \t964.0kB/1.1MB "
       ]
      },
      {
       "output_type": "stream",
       "stream": "stdout",
       "text": [
        "\r",
        " [##################--]87.95% \t968.0kB/1.1MB "
       ]
      },
      {
       "output_type": "stream",
       "stream": "stdout",
       "text": [
        "\r",
        " [##################--]88.31% \t972.0kB/1.1MB "
       ]
      },
      {
       "output_type": "stream",
       "stream": "stdout",
       "text": [
        "\r",
        " [##################--]88.67% \t976.0kB/1.1MB "
       ]
      },
      {
       "output_type": "stream",
       "stream": "stdout",
       "text": [
        "\r",
        " [##################--]89.04% \t980.0kB/1.1MB "
       ]
      },
      {
       "output_type": "stream",
       "stream": "stdout",
       "text": [
        "\r",
        " [##################--]89.40% \t984.0kB/1.1MB "
       ]
      },
      {
       "output_type": "stream",
       "stream": "stdout",
       "text": [
        "\r",
        " [##################--]89.76% \t988.0kB/1.1MB "
       ]
      },
      {
       "output_type": "stream",
       "stream": "stdout",
       "text": [
        "\r",
        " [##################--]90.13% \t992.0kB/1.1MB "
       ]
      },
      {
       "output_type": "stream",
       "stream": "stdout",
       "text": [
        "\r",
        " [##################--]90.49% \t996.0kB/1.1MB "
       ]
      },
      {
       "output_type": "stream",
       "stream": "stdout",
       "text": [
        "\r",
        " [##################--]90.85% \t1000.0kB/1.1MB "
       ]
      },
      {
       "output_type": "stream",
       "stream": "stdout",
       "text": [
        "\r",
        " [##################--]91.22% \t1004.0kB/1.1MB "
       ]
      },
      {
       "output_type": "stream",
       "stream": "stdout",
       "text": [
        "\r",
        " [##################--]91.58% \t1008.0kB/1.1MB "
       ]
      },
      {
       "output_type": "stream",
       "stream": "stdout",
       "text": [
        "\r",
        " [##################--]91.94% \t1012.0kB/1.1MB "
       ]
      },
      {
       "output_type": "stream",
       "stream": "stdout",
       "text": [
        "\r",
        " [##################--]92.31% \t1016.0kB/1.1MB "
       ]
      },
      {
       "output_type": "stream",
       "stream": "stdout",
       "text": [
        "\r",
        " [###################-]92.67% \t1020.0kB/1.1MB "
       ]
      },
      {
       "output_type": "stream",
       "stream": "stdout",
       "text": [
        "\r",
        " [###################-]93.03% \t1.0MB/1.1MB "
       ]
      },
      {
       "output_type": "stream",
       "stream": "stdout",
       "text": [
        "\r",
        " [###################-]93.40% \t1.0MB/1.1MB "
       ]
      },
      {
       "output_type": "stream",
       "stream": "stdout",
       "text": [
        "\r",
        " [###################-]93.76% \t1.0MB/1.1MB "
       ]
      },
      {
       "output_type": "stream",
       "stream": "stdout",
       "text": [
        "\r",
        " [###################-]94.12% \t1.0MB/1.1MB "
       ]
      },
      {
       "output_type": "stream",
       "stream": "stdout",
       "text": [
        "\r",
        " [###################-]94.49% \t1.0MB/1.1MB "
       ]
      },
      {
       "output_type": "stream",
       "stream": "stdout",
       "text": [
        "\r",
        " [###################-]94.85% \t1.0MB/1.1MB "
       ]
      },
      {
       "output_type": "stream",
       "stream": "stdout",
       "text": [
        "\r",
        " [###################-]95.21% \t1.0MB/1.1MB "
       ]
      },
      {
       "output_type": "stream",
       "stream": "stdout",
       "text": [
        "\r",
        " [###################-]95.58% \t1.0MB/1.1MB "
       ]
      },
      {
       "output_type": "stream",
       "stream": "stdout",
       "text": [
        "\r",
        " [###################-]95.94% \t1.0MB/1.1MB "
       ]
      },
      {
       "output_type": "stream",
       "stream": "stdout",
       "text": [
        "\r",
        " [###################-]96.30% \t1.0MB/1.1MB "
       ]
      },
      {
       "output_type": "stream",
       "stream": "stdout",
       "text": [
        "\r",
        " [###################-]96.67% \t1.0MB/1.1MB "
       ]
      },
      {
       "output_type": "stream",
       "stream": "stdout",
       "text": [
        "\r",
        " [###################-]97.03% \t1.0MB/1.1MB "
       ]
      },
      {
       "output_type": "stream",
       "stream": "stdout",
       "text": [
        "\r",
        " [###################-]97.40% \t1.0MB/1.1MB "
       ]
      },
      {
       "output_type": "stream",
       "stream": "stdout",
       "text": [
        "\r",
        " [####################]97.76% \t1.0MB/1.1MB "
       ]
      },
      {
       "output_type": "stream",
       "stream": "stdout",
       "text": [
        "\r",
        " [####################]98.12% \t1.0MB/1.1MB "
       ]
      },
      {
       "output_type": "stream",
       "stream": "stdout",
       "text": [
        "\r",
        " [####################]98.49% \t1.0MB/1.1MB "
       ]
      },
      {
       "output_type": "stream",
       "stream": "stdout",
       "text": [
        "\r",
        " [####################]98.85% \t1.0MB/1.1MB "
       ]
      },
      {
       "output_type": "stream",
       "stream": "stdout",
       "text": [
        "\r",
        " [####################]99.21% \t1.0MB/1.1MB "
       ]
      },
      {
       "output_type": "stream",
       "stream": "stdout",
       "text": [
        "\r",
        " [####################]99.58% \t1.0MB/1.1MB "
       ]
      },
      {
       "output_type": "stream",
       "stream": "stdout",
       "text": [
        "\r",
        " [####################]99.94% \t1.0MB/1.1MB "
       ]
      }
     ],
     "prompt_number": 2
    },
    {
     "cell_type": "markdown",
     "metadata": {},
     "source": [
      "## Download miRNA-Seq data from Synapse\n",
      "\n",
      "Make sure the metadata matches up with samples"
     ]
    },
    {
     "cell_type": "code",
     "collapsed": false,
     "input": [
      "metaTbl = syn.get(MIRSEQ_META_ID)\n",
      "\n",
      "tblQuery = syn.tableQuery(\"select * from %s where public=true AND pass_qc=true\" % MIRSEQ_META_ID)\n",
      "mirseq_meta = tblQuery.asDataFrame()"
     ],
     "language": "python",
     "metadata": {},
     "outputs": [
      {
       "output_type": "stream",
       "stream": "stdout",
       "text": [
        "...\n"
       ]
      },
      {
       "output_type": "stream",
       "stream": "stdout",
       "text": [
        "\n",
        "\r",
        " [--------------------]0.00% \t0.0bytes/84.0kB "
       ]
      },
      {
       "output_type": "stream",
       "stream": "stdout",
       "text": [
        "\r",
        " [#-------------------]4.76% \t4.0kB/84.0kB "
       ]
      },
      {
       "output_type": "stream",
       "stream": "stdout",
       "text": [
        "\r",
        " [##------------------]9.52% \t8.0kB/84.0kB "
       ]
      },
      {
       "output_type": "stream",
       "stream": "stdout",
       "text": [
        "\r",
        " [###-----------------]14.28% \t12.0kB/84.0kB "
       ]
      },
      {
       "output_type": "stream",
       "stream": "stdout",
       "text": [
        "\r",
        " [####----------------]19.04% \t16.0kB/84.0kB "
       ]
      },
      {
       "output_type": "stream",
       "stream": "stdout",
       "text": [
        "\r",
        " [#####---------------]23.80% \t20.0kB/84.0kB "
       ]
      },
      {
       "output_type": "stream",
       "stream": "stdout",
       "text": [
        "\r",
        " [######--------------]28.56% \t24.0kB/84.0kB "
       ]
      },
      {
       "output_type": "stream",
       "stream": "stdout",
       "text": [
        "\r",
        " [#######-------------]33.32% \t28.0kB/84.0kB "
       ]
      },
      {
       "output_type": "stream",
       "stream": "stdout",
       "text": [
        "\r",
        " [########------------]38.08% \t32.0kB/84.0kB "
       ]
      },
      {
       "output_type": "stream",
       "stream": "stdout",
       "text": [
        "\r",
        " [#########-----------]42.85% \t36.0kB/84.0kB "
       ]
      },
      {
       "output_type": "stream",
       "stream": "stdout",
       "text": [
        "\r",
        " [##########----------]47.61% \t40.0kB/84.0kB "
       ]
      },
      {
       "output_type": "stream",
       "stream": "stdout",
       "text": [
        "\r",
        " [##########----------]52.37% \t44.0kB/84.0kB "
       ]
      },
      {
       "output_type": "stream",
       "stream": "stdout",
       "text": [
        "\r",
        " [###########---------]57.13% \t48.0kB/84.0kB "
       ]
      },
      {
       "output_type": "stream",
       "stream": "stdout",
       "text": [
        "\r",
        " [############--------]61.89% \t52.0kB/84.0kB "
       ]
      },
      {
       "output_type": "stream",
       "stream": "stdout",
       "text": [
        "\r",
        " [#############-------]66.65% \t56.0kB/84.0kB "
       ]
      },
      {
       "output_type": "stream",
       "stream": "stdout",
       "text": [
        "\r",
        " [##############------]71.41% \t60.0kB/84.0kB "
       ]
      },
      {
       "output_type": "stream",
       "stream": "stdout",
       "text": [
        "\r",
        " [###############-----]76.17% \t64.0kB/84.0kB "
       ]
      },
      {
       "output_type": "stream",
       "stream": "stdout",
       "text": [
        "\r",
        " [################----]80.93% \t68.0kB/84.0kB "
       ]
      },
      {
       "output_type": "stream",
       "stream": "stdout",
       "text": [
        "\r",
        " [#################---]85.69% \t72.0kB/84.0kB "
       ]
      },
      {
       "output_type": "stream",
       "stream": "stdout",
       "text": [
        "\r",
        " [##################--]90.45% \t76.0kB/84.0kB "
       ]
      },
      {
       "output_type": "stream",
       "stream": "stdout",
       "text": [
        "\r",
        " [###################-]95.21% \t80.0kB/84.0kB "
       ]
      },
      {
       "output_type": "stream",
       "stream": "stdout",
       "text": [
        "\r",
        " [####################]99.97% \t84.0kB/84.0kB "
       ]
      }
     ],
     "prompt_number": 44
    },
    {
     "cell_type": "code",
     "collapsed": false,
     "input": [
      "mirseq_meta.shape"
     ],
     "language": "python",
     "metadata": {},
     "outputs": [
      {
       "metadata": {},
       "output_type": "pyout",
       "prompt_number": 45,
       "text": [
        "(155, 59)"
       ]
      }
     ],
     "prompt_number": 45
    },
    {
     "cell_type": "code",
     "collapsed": false,
     "input": [
      "commonUIDs = mirseq.columns.intersection(mirseq_meta.UID).tolist()"
     ],
     "language": "python",
     "metadata": {},
     "outputs": [],
     "prompt_number": 47
    },
    {
     "cell_type": "code",
     "collapsed": false,
     "input": [
      "mirseq = mirseq.ix[:, commonUIDs]"
     ],
     "language": "python",
     "metadata": {},
     "outputs": [],
     "prompt_number": 49
    },
    {
     "cell_type": "code",
     "collapsed": false,
     "input": [
      "mirseq_meta= mirseq_meta[mirseq_meta.UID.isin(commonUIDs)]"
     ],
     "language": "python",
     "metadata": {},
     "outputs": [],
     "prompt_number": 50
    },
    {
     "cell_type": "code",
     "collapsed": false,
     "input": [
      "print 'Mirseq Data Size: %s; mirSeq metadata size: %s' % (mirseq.shape, mirseq_meta.shape)"
     ],
     "language": "python",
     "metadata": {},
     "outputs": [
      {
       "output_type": "stream",
       "stream": "stdout",
       "text": [
        "Mirseq Data Size: (2280, 129); mirSeq metadata size: (129, 59)\n"
       ]
      }
     ],
     "prompt_number": 51
    },
    {
     "cell_type": "code",
     "collapsed": false,
     "input": [
      "mirseq.columns"
     ],
     "language": "python",
     "metadata": {},
     "outputs": [
      {
       "metadata": {},
       "output_type": "pyout",
       "prompt_number": 52,
       "text": [
        "Index([u'H9-EB.574.1.27', u'H9.112.5.10', u'H9.112.5.9', u'H9ECTO.239.7.26', u'H9MESO.436.1.30', u'H9MESOD15.239.6.29', u'H9MESOD5.239.6.26', u'IPS18-4_1.112.5.11', u'IPS18-4_2.112.5.12', u'SC11-004.574.1.45', u'SC11-006DE.416.2.32', u'SC11-006EB.416.2.25', u'SC11-006ECTO.436.1.29', u'SC11-006MESO.416.2.13', u'SC11-007DE.416.2.33', u'SC11-007EB.416.2.26', u'SC11-007ECTO.436.1.36', u'SC11-007MESO.416.2.14', u'SC11-008.436.1.27', u'SC11-008BEB.146.6.1', u'SC11-009.436.1.34', u'SC11-009EB.239.6.9', u'SC11-010.436.1.35', u'SC11-010BEB.146.6.2', u'SC11-012.436.1.26', u'SC11-012BEB.146.6.3', u'SC11-013.436.1.25', u'SC11-013BEB.146.6.4', u'SC11-013EB.574.1.28', u'SC11-013ECTO.574.1.37', u'SC11-013MESO.574.1.36', u'SC11-014.436.1.32', u'SC11-014DE.574.1.42', u'SC11-014EB.574.1.29', u'SC11-014MESO.574.1.43', u'SC11-015.574.1.46', u'SC11-015AEB.146.6.6', u'SC11-015BEB.146.6.7', u'SC11-015EB.239.6.10', u'SC11-015MESOD15.239.6.27', u'SC11-015MESOD30.239.6.30', u'SC11-016.574.1.47', u'SC11-016AEB.146.6.8', u'SC11-016DE.416.2.34', u'SC11-016EB.416.2.27', u'SC11-016ECTO.386.2.16', u'SC11-016MESO.416.2.15', u'SC11-017.574.1.48', u'SC11-017A.146.6.9', u'SC11-017DE.574.1.32', u'SC11-017EB.416.2.28', u'SC11-017ECTO.386.2.17', u'SC11-017MESO.574.1.33', u'SC11-018A.146.6.10', u'SC12-005B.146.6.12', u'SC12-005EB.574.1.30', u'SC12-006A.146.6.21', u'SC12-006EB.574.1.31', u'SC12-022MESOD15.239.6.28', u'SC12-022MESOD30.239.6.31', u'SC12-024.436.1.33', u'SC12-024MESO.416.2.16', u'SC12-025DE.416.2.36', u'SC12-025EB.416.2.29', u'SC12-025ECTO.386.2.19', u'SC12-025MESO.416.2.21', u'SC12-031DE.386.2.15', u'SC12-031EB.416.2.20', u'SC12-031ECTO.386.2.20', u'SC12-031MESO.416.2.22', u'SC12-034EB.239.6.11', u'SC12-034ECTO.239.6.3', u'SC12-034MESO.239.6.6', u'SC12-034MESOD15.239.6.34', u'SC12-034MESOD30.239.7.1', u'SC12-036DE.239.6.2', u'SC12-036EB.239.6.12', u'SC12-036ECTO.239.6.4', u'SC12-036MESO.239.6.7', u'SC12-036MESOD15.239.6.35', u'SC12-036MESOD30.239.7.2', u'SC12-037DE.239.7.12', u'SC12-037EB.239.6.25', u'SC12-037ECTO.239.6.5', u'SC12-037MESO.239.6.8', u'SC12-037MESOD15.239.6.36', u'SC12-037MESOD30.239.7.3', u'SC12-038.386.2.13', u'SC12-038DE.416.2.18', u'SC12-038ECTO.386.2.21', u'SC12-038MESO.416.2.23', u'SC12-039.436.1.31', u'SC12-039DE.416.2.712', u'SC12-039ECTO.386.2.22', u'SC12-039MESO.416.2.24', u'SC120-38EB.old.574.1.25', u'SC13-043.386.2.14', u'SC13-043DE.416.2.19', u'SC13-043EBOLD.416.2.30', u'SC13-043EBTEST.416.2.31', ...], dtype='object')"
       ]
      }
     ],
     "prompt_number": 52
    },
    {
     "cell_type": "markdown",
     "metadata": {},
     "source": [
      "#Data exploration, Quality assesement and Normalization"
     ]
    },
    {
     "cell_type": "code",
     "collapsed": false,
     "input": [
      "mirseq[mirseq.isnull()] = 0"
     ],
     "language": "python",
     "metadata": {},
     "outputs": [],
     "prompt_number": 54
    },
    {
     "cell_type": "markdown",
     "metadata": {},
     "source": [
      "Keep microRNA probes where >10% of samples have more than 2 reads."
     ]
    },
    {
     "cell_type": "code",
     "collapsed": false,
     "input": [
      "idx = (np.sum(mirseq < 2, axis=1) / mirseq.shape[1]) <= 0.90\n",
      "mirseq_norm = mirseq[idx]\n",
      "print 'filtered down to', sum(idx), 'probes based on low coverage probes'"
     ],
     "language": "python",
     "metadata": {},
     "outputs": [
      {
       "output_type": "stream",
       "stream": "stdout",
       "text": [
        "filtered down to 1293 probes based on low coverage probes\n"
       ]
      }
     ],
     "prompt_number": 104
    },
    {
     "cell_type": "markdown",
     "metadata": {},
     "source": [
      "Normalize by 90th quantile."
     ]
    },
    {
     "cell_type": "code",
     "collapsed": false,
     "input": [
      "mirnormfactor = np.percentile(mirseq_norm, 90, axis=0)"
     ],
     "language": "python",
     "metadata": {},
     "outputs": [],
     "prompt_number": 105
    },
    {
     "cell_type": "code",
     "collapsed": false,
     "input": [
      "mirseq_norm = mirseq_norm / mirnormfactor"
     ],
     "language": "python",
     "metadata": {},
     "outputs": [],
     "prompt_number": 106
    },
    {
     "cell_type": "markdown",
     "metadata": {},
     "source": [
      "Center the arrays (scale by mean and standard deviation)"
     ]
    },
    {
     "cell_type": "code",
     "collapsed": false,
     "input": [
      "mirseq_norm = MicroArray.scale(mirseq_norm)"
     ],
     "language": "python",
     "metadata": {},
     "outputs": [],
     "prompt_number": 107
    },
    {
     "cell_type": "markdown",
     "metadata": {},
     "source": [
      "Keep those with a non-zero 90th percentile (removes files with possible QC problems) "
     ]
    },
    {
     "cell_type": "code",
     "collapsed": false,
     "input": [
      "keepcols = [mirseq_norm.columns[i] for i in range(len(mirnormfactor)) if mirnormfactor[i] > 0]"
     ],
     "language": "python",
     "metadata": {},
     "outputs": [],
     "prompt_number": 115
    },
    {
     "cell_type": "code",
     "collapsed": false,
     "input": [
      "mirseq_norm = mirseq_norm[keepcols]\n",
      "mirseq_meta = mirseq_meta[mirseq_meta.UID.isin(keepcols)]"
     ],
     "language": "python",
     "metadata": {},
     "outputs": [],
     "prompt_number": 116
    },
    {
     "cell_type": "markdown",
     "metadata": {},
     "source": [
      "Use SVD to visualize."
     ]
    },
    {
     "cell_type": "code",
     "collapsed": false,
     "input": [
      "u,s,vt = MicroArray.QaD_SVD(mirseq_norm, mirseq_meta, plotEigengenes=False)"
     ],
     "language": "python",
     "metadata": {},
     "outputs": [],
     "prompt_number": 117
    },
    {
     "cell_type": "markdown",
     "metadata": {},
     "source": [
      "Filter down features to those with high variance (95th percentile)."
     ]
    },
    {
     "cell_type": "code",
     "collapsed": false,
     "input": [
      "variance = mirseq_norm.var(axis=1)\n",
      "x = mirseq_norm[variance > np.percentile(variance, 95)]"
     ],
     "language": "python",
     "metadata": {},
     "outputs": [],
     "prompt_number": 113
    },
    {
     "cell_type": "markdown",
     "metadata": {},
     "source": [
      " Perform hierarchical clustering."
     ]
    },
    {
     "cell_type": "code",
     "collapsed": false,
     "input": [
      "clust.heatmap(x.as_matrix(), list(x.index), list(x.columns), filename='foo.png')"
     ],
     "language": "python",
     "metadata": {},
     "outputs": [
      {
       "output_type": "stream",
       "stream": "stdout",
       "text": [
        "\n",
        "Performing hiearchical clustering using euclidean for columns and cityblock for rows\n",
        "Column clustering completed in 0.2 seconds"
       ]
      },
      {
       "output_type": "stream",
       "stream": "stdout",
       "text": [
        "\n",
        "Row clustering completed in 0.1 seconds"
       ]
      },
      {
       "output_type": "stream",
       "stream": "stdout",
       "text": [
        "\n",
        "Exporting:"
       ]
      },
      {
       "output_type": "stream",
       "stream": "stdout",
       "text": [
        " Clustering-foo-hierarchical_euclidean_cityblock.pdf\n"
       ]
      }
     ],
     "prompt_number": 114
    },
    {
     "cell_type": "markdown",
     "metadata": {},
     "source": [
      "#Save normalized samples to Synapse"
     ]
    },
    {
     "cell_type": "code",
     "collapsed": false,
     "input": [
      "mirseq_norm.to_csv('mirseq_norm.tsv', sep='\\t')\n",
      "mirID = syn.store(synapseclient.File('mirseq_norm.tsv', parentId='syn3219792', name='Normalized miRNA Matrix'),\n",
      "                  used=MIRSEQ_ID,\n",
      "                  executed=\"https://github.com/kdaily/pcbc_c4_analysis/blob/f033268e22516c97f435bda2f0da77215dfe2157/code/python/C4_qc_filtering_normalization_miRNA.ipynb\")"
     ],
     "language": "python",
     "metadata": {},
     "outputs": [
      {
       "output_type": "stream",
       "stream": "stdout",
       "text": [
        "\n",
        "##################################################\n",
        "Uploading file to Synapse storage\n",
        "##################################################\n",
        "."
       ]
      },
      {
       "output_type": "stream",
       "stream": "stdout",
       "text": [
        "."
       ]
      },
      {
       "output_type": "stream",
       "stream": "stdout",
       "text": [
        ","
       ]
      },
      {
       "output_type": "stream",
       "stream": "stdout",
       "text": [
        "!"
       ]
      },
      {
       "output_type": "stream",
       "stream": "stdout",
       "text": [
        "!"
       ]
      },
      {
       "output_type": "stream",
       "stream": "stdout",
       "text": [
        "!"
       ]
      },
      {
       "output_type": "stream",
       "stream": "stdout",
       "text": [
        "!\n"
       ]
      },
      {
       "output_type": "stream",
       "stream": "stdout",
       "text": [
        "Upload completed in 13 seconds.\n"
       ]
      }
     ],
     "prompt_number": 110
    }
   ],
   "metadata": {}
  }
 ]
}